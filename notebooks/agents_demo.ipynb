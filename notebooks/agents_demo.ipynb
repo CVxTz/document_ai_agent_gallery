{
 "cells": [
  {
   "cell_type": "code",
   "execution_count": 11,
   "id": "da6f9e42-5194-4c89-bf04-f175b9de8459",
   "metadata": {},
   "outputs": [],
   "source": [
    "import requests\n",
    "from IPython.display import display, Markdown\n",
    "from pathlib import Path\n",
    "\n",
    "from document_ai_agents.document_parsing_agent import (\n",
    "    DocumentLayoutParsingState,\n",
    "    DocumentParsingAgent,\n",
    ")\n",
    "from document_ai_agents.document_rag_agent import DocumentRAGAgent, DocumentRAGState"
   ]
  },
  {
   "cell_type": "code",
   "execution_count": 2,
   "id": "f066362c-a630-4403-acf1-e91376ac857b",
   "metadata": {},
   "outputs": [],
   "source": [
    "path = \"docs.pdf\""
   ]
  },
  {
   "cell_type": "code",
   "execution_count": 3,
   "id": "c5512e00-8e09-42ba-b258-67be55f82ce2",
   "metadata": {},
   "outputs": [],
   "source": [
    "with open(path, \"wb\") as f: f.write(requests.get(\"https://www.seas.upenn.edu/~cis5190/fall2017/lectures/01_introduction.pdf\").content)"
   ]
  },
  {
   "cell_type": "code",
   "execution_count": 4,
   "id": "ba44078e-3b2b-420b-8b84-f261007ea259",
   "metadata": {},
   "outputs": [
    {
     "name": "stderr",
     "output_type": "stream",
     "text": [
      "\u001b[32m2024-11-27 14:15:24.829\u001b[0m | \u001b[1mINFO    \u001b[0m | \u001b[36mdocument_ai_agents.document_parsing_agent\u001b[0m:\u001b[36m__init__\u001b[0m:\u001b[36m47\u001b[0m - \u001b[1mUsing Gemini model with schema: {'properties': {'layout_items': {'items': {'properties': {'element_type': {'description': 'Type of detected Item. Find Tables, figures and images. Use Text-Block for everything else, be as exhaustive as possible. Return 10 Items at most.', 'enum': ['Table', 'Figure', 'Image', 'Text-block'], 'type': 'string'}, 'summary': {'description': 'A detailed description of the layout Item.', 'type': 'string'}}, 'required': ['element_type', 'summary'], 'type': 'object'}, 'type': 'array'}}, 'type': 'object'}\u001b[0m\n"
     ]
    }
   ],
   "source": [
    "agent1 = DocumentParsingAgent()"
   ]
  },
  {
   "cell_type": "code",
   "execution_count": 5,
   "id": "237f471f-9076-497c-bcb3-80b7d4e1c229",
   "metadata": {},
   "outputs": [
    {
     "name": "stderr",
     "output_type": "stream",
     "text": [
      "\u001b[32m2024-11-27 14:15:24.850\u001b[0m | \u001b[1mINFO    \u001b[0m | \u001b[36mchromadb.telemetry.product.posthog\u001b[0m:\u001b[36m__init__\u001b[0m:\u001b[36m22\u001b[0m - \u001b[1mAnonymized telemetry enabled. See                     https://docs.trychroma.com/telemetry for more information.\u001b[0m\n"
     ]
    }
   ],
   "source": [
    "agent2 = DocumentRAGAgent()"
   ]
  },
  {
   "cell_type": "code",
   "execution_count": 6,
   "id": "e2b65171-d597-485b-8fc5-68840f64ade4",
   "metadata": {},
   "outputs": [],
   "source": [
    "state1 = DocumentLayoutParsingState(\n",
    "    document_path=path\n",
    ")"
   ]
  },
  {
   "cell_type": "code",
   "execution_count": 7,
   "id": "14ad4a69-442d-4879-9865-6f0603ebcd3b",
   "metadata": {},
   "outputs": [
    {
     "name": "stderr",
     "output_type": "stream",
     "text": [
      "\u001b[32m2024-11-27 14:15:25.037\u001b[0m | \u001b[1mINFO    \u001b[0m | \u001b[36mdocument_ai_agents.document_utils\u001b[0m:\u001b[36mextract_images_from_pdf\u001b[0m:\u001b[36m10\u001b[0m - \u001b[1mExtracting images from PDF: docs.pdf\u001b[0m\n",
      "\u001b[32m2024-11-27 14:15:25.038\u001b[0m | \u001b[1mINFO    \u001b[0m | \u001b[36mdocument_ai_agents.document_utils\u001b[0m:\u001b[36mextract_images_from_pdf\u001b[0m:\u001b[36m13\u001b[0m - \u001b[1mConverting PDF to images using temporary directory: /tmp/tmpc6nigtsm\u001b[0m\n",
      "\u001b[32m2024-11-27 14:15:30.066\u001b[0m | \u001b[1mINFO    \u001b[0m | \u001b[36mdocument_ai_agents.document_utils\u001b[0m:\u001b[36mextract_images_from_pdf\u001b[0m:\u001b[36m15\u001b[0m - \u001b[1mExtracted 51 images from the PDF.\u001b[0m\n",
      "\u001b[32m2024-11-27 14:15:30.905\u001b[0m | \u001b[1mINFO    \u001b[0m | \u001b[36mdocument_ai_agents.document_parsing_agent\u001b[0m:\u001b[36mfind_layout_items\u001b[0m:\u001b[36m86\u001b[0m - \u001b[1mProcessing page 1\u001b[0m\n",
      "\u001b[32m2024-11-27 14:15:30.906\u001b[0m | \u001b[1mINFO    \u001b[0m | \u001b[36mdocument_ai_agents.document_parsing_agent\u001b[0m:\u001b[36mfind_layout_items\u001b[0m:\u001b[36m86\u001b[0m - \u001b[1mProcessing page 2\u001b[0m\n",
      "\u001b[32m2024-11-27 14:15:30.908\u001b[0m | \u001b[1mINFO    \u001b[0m | \u001b[36mdocument_ai_agents.document_parsing_agent\u001b[0m:\u001b[36mfind_layout_items\u001b[0m:\u001b[36m86\u001b[0m - \u001b[1mProcessing page 3\u001b[0m\n",
      "\u001b[32m2024-11-27 14:15:30.908\u001b[0m | \u001b[1mINFO    \u001b[0m | \u001b[36mdocument_ai_agents.document_parsing_agent\u001b[0m:\u001b[36mfind_layout_items\u001b[0m:\u001b[36m86\u001b[0m - \u001b[1mProcessing page 4\u001b[0m\n",
      "\u001b[32m2024-11-27 14:15:30.909\u001b[0m | \u001b[1mINFO    \u001b[0m | \u001b[36mdocument_ai_agents.document_parsing_agent\u001b[0m:\u001b[36mfind_layout_items\u001b[0m:\u001b[36m86\u001b[0m - \u001b[1mProcessing page 5\u001b[0m\n",
      "\u001b[32m2024-11-27 14:15:30.912\u001b[0m | \u001b[1mINFO    \u001b[0m | \u001b[36mdocument_ai_agents.document_parsing_agent\u001b[0m:\u001b[36mfind_layout_items\u001b[0m:\u001b[36m86\u001b[0m - \u001b[1mProcessing page 6\u001b[0m\n",
      "\u001b[32m2024-11-27 14:15:30.913\u001b[0m | \u001b[1mINFO    \u001b[0m | \u001b[36mdocument_ai_agents.document_parsing_agent\u001b[0m:\u001b[36mfind_layout_items\u001b[0m:\u001b[36m86\u001b[0m - \u001b[1mProcessing page 7\u001b[0m\n",
      "\u001b[32m2024-11-27 14:15:30.913\u001b[0m | \u001b[1mINFO    \u001b[0m | \u001b[36mdocument_ai_agents.document_parsing_agent\u001b[0m:\u001b[36mfind_layout_items\u001b[0m:\u001b[36m86\u001b[0m - \u001b[1mProcessing page 8\u001b[0m\n",
      "\u001b[32m2024-11-27 14:15:30.924\u001b[0m | \u001b[1mINFO    \u001b[0m | \u001b[36mdocument_ai_agents.document_parsing_agent\u001b[0m:\u001b[36mfind_layout_items\u001b[0m:\u001b[36m86\u001b[0m - \u001b[1mProcessing page 9\u001b[0m\n",
      "\u001b[32m2024-11-27 14:15:30.925\u001b[0m | \u001b[1mINFO    \u001b[0m | \u001b[36mdocument_ai_agents.document_parsing_agent\u001b[0m:\u001b[36mfind_layout_items\u001b[0m:\u001b[36m86\u001b[0m - \u001b[1mProcessing page 10\u001b[0m\n",
      "\u001b[32m2024-11-27 14:15:30.928\u001b[0m | \u001b[1mINFO    \u001b[0m | \u001b[36mdocument_ai_agents.document_parsing_agent\u001b[0m:\u001b[36mfind_layout_items\u001b[0m:\u001b[36m86\u001b[0m - \u001b[1mProcessing page 11\u001b[0m\n",
      "\u001b[32m2024-11-27 14:15:30.929\u001b[0m | \u001b[1mINFO    \u001b[0m | \u001b[36mdocument_ai_agents.document_parsing_agent\u001b[0m:\u001b[36mfind_layout_items\u001b[0m:\u001b[36m86\u001b[0m - \u001b[1mProcessing page 12\u001b[0m\n",
      "\u001b[32m2024-11-27 14:15:30.929\u001b[0m | \u001b[1mINFO    \u001b[0m | \u001b[36mdocument_ai_agents.document_parsing_agent\u001b[0m:\u001b[36mfind_layout_items\u001b[0m:\u001b[36m86\u001b[0m - \u001b[1mProcessing page 13\u001b[0m\n",
      "\u001b[32m2024-11-27 14:15:30.933\u001b[0m | \u001b[1mINFO    \u001b[0m | \u001b[36mdocument_ai_agents.document_parsing_agent\u001b[0m:\u001b[36mfind_layout_items\u001b[0m:\u001b[36m86\u001b[0m - \u001b[1mProcessing page 14\u001b[0m\n",
      "\u001b[32m2024-11-27 14:15:30.936\u001b[0m | \u001b[1mINFO    \u001b[0m | \u001b[36mdocument_ai_agents.document_parsing_agent\u001b[0m:\u001b[36mfind_layout_items\u001b[0m:\u001b[36m86\u001b[0m - \u001b[1mProcessing page 15\u001b[0m\n",
      "\u001b[32m2024-11-27 14:15:30.937\u001b[0m | \u001b[1mINFO    \u001b[0m | \u001b[36mdocument_ai_agents.document_parsing_agent\u001b[0m:\u001b[36mfind_layout_items\u001b[0m:\u001b[36m86\u001b[0m - \u001b[1mProcessing page 16\u001b[0m\n",
      "\u001b[32m2024-11-27 14:15:30.941\u001b[0m | \u001b[1mINFO    \u001b[0m | \u001b[36mdocument_ai_agents.document_parsing_agent\u001b[0m:\u001b[36mfind_layout_items\u001b[0m:\u001b[36m86\u001b[0m - \u001b[1mProcessing page 17\u001b[0m\n",
      "\u001b[32m2024-11-27 14:15:30.946\u001b[0m | \u001b[1mINFO    \u001b[0m | \u001b[36mdocument_ai_agents.document_parsing_agent\u001b[0m:\u001b[36mfind_layout_items\u001b[0m:\u001b[36m86\u001b[0m - \u001b[1mProcessing page 18\u001b[0m\n",
      "\u001b[32m2024-11-27 14:15:30.946\u001b[0m | \u001b[1mINFO    \u001b[0m | \u001b[36mdocument_ai_agents.document_parsing_agent\u001b[0m:\u001b[36mfind_layout_items\u001b[0m:\u001b[36m86\u001b[0m - \u001b[1mProcessing page 19\u001b[0m\n",
      "\u001b[32m2024-11-27 14:15:30.949\u001b[0m | \u001b[1mINFO    \u001b[0m | \u001b[36mdocument_ai_agents.document_parsing_agent\u001b[0m:\u001b[36mfind_layout_items\u001b[0m:\u001b[36m86\u001b[0m - \u001b[1mProcessing page 20\u001b[0m\n",
      "\u001b[32m2024-11-27 14:15:30.950\u001b[0m | \u001b[1mINFO    \u001b[0m | \u001b[36mdocument_ai_agents.document_parsing_agent\u001b[0m:\u001b[36mfind_layout_items\u001b[0m:\u001b[36m86\u001b[0m - \u001b[1mProcessing page 21\u001b[0m\n",
      "\u001b[32m2024-11-27 14:15:30.950\u001b[0m | \u001b[1mINFO    \u001b[0m | \u001b[36mdocument_ai_agents.document_parsing_agent\u001b[0m:\u001b[36mfind_layout_items\u001b[0m:\u001b[36m86\u001b[0m - \u001b[1mProcessing page 22\u001b[0m\n",
      "\u001b[32m2024-11-27 14:15:30.955\u001b[0m | \u001b[1mINFO    \u001b[0m | \u001b[36mdocument_ai_agents.document_parsing_agent\u001b[0m:\u001b[36mfind_layout_items\u001b[0m:\u001b[36m86\u001b[0m - \u001b[1mProcessing page 23\u001b[0m\n",
      "\u001b[32m2024-11-27 14:15:30.955\u001b[0m | \u001b[1mINFO    \u001b[0m | \u001b[36mdocument_ai_agents.document_parsing_agent\u001b[0m:\u001b[36mfind_layout_items\u001b[0m:\u001b[36m86\u001b[0m - \u001b[1mProcessing page 24\u001b[0m\n",
      "\u001b[32m2024-11-27 14:15:33.342\u001b[0m | \u001b[1mINFO    \u001b[0m | \u001b[36mdocument_ai_agents.document_parsing_agent\u001b[0m:\u001b[36mfind_layout_items\u001b[0m:\u001b[36m109\u001b[0m - \u001b[1mExtracted 1 layout elements from page 10.\u001b[0m\n",
      "\u001b[32m2024-11-27 14:15:33.343\u001b[0m | \u001b[1mINFO    \u001b[0m | \u001b[36mdocument_ai_agents.document_parsing_agent\u001b[0m:\u001b[36mfind_layout_items\u001b[0m:\u001b[36m86\u001b[0m - \u001b[1mProcessing page 25\u001b[0m\n",
      "\u001b[32m2024-11-27 14:15:33.833\u001b[0m | \u001b[1mINFO    \u001b[0m | \u001b[36mdocument_ai_agents.document_parsing_agent\u001b[0m:\u001b[36mfind_layout_items\u001b[0m:\u001b[36m109\u001b[0m - \u001b[1mExtracted 1 layout elements from page 22.\u001b[0m\n",
      "\u001b[32m2024-11-27 14:15:33.834\u001b[0m | \u001b[1mINFO    \u001b[0m | \u001b[36mdocument_ai_agents.document_parsing_agent\u001b[0m:\u001b[36mfind_layout_items\u001b[0m:\u001b[36m86\u001b[0m - \u001b[1mProcessing page 26\u001b[0m\n",
      "\u001b[32m2024-11-27 14:15:34.242\u001b[0m | \u001b[1mINFO    \u001b[0m | \u001b[36mdocument_ai_agents.document_parsing_agent\u001b[0m:\u001b[36mfind_layout_items\u001b[0m:\u001b[36m109\u001b[0m - \u001b[1mExtracted 3 layout elements from page 8.\u001b[0m\n",
      "\u001b[32m2024-11-27 14:15:34.243\u001b[0m | \u001b[1mINFO    \u001b[0m | \u001b[36mdocument_ai_agents.document_parsing_agent\u001b[0m:\u001b[36mfind_layout_items\u001b[0m:\u001b[36m86\u001b[0m - \u001b[1mProcessing page 27\u001b[0m\n",
      "\u001b[32m2024-11-27 14:15:35.201\u001b[0m | \u001b[1mINFO    \u001b[0m | \u001b[36mdocument_ai_agents.document_parsing_agent\u001b[0m:\u001b[36mfind_layout_items\u001b[0m:\u001b[36m109\u001b[0m - \u001b[1mExtracted 5 layout elements from page 3.\u001b[0m\n",
      "\u001b[32m2024-11-27 14:15:35.201\u001b[0m | \u001b[1mINFO    \u001b[0m | \u001b[36mdocument_ai_agents.document_parsing_agent\u001b[0m:\u001b[36mfind_layout_items\u001b[0m:\u001b[36m86\u001b[0m - \u001b[1mProcessing page 28\u001b[0m\n",
      "\u001b[32m2024-11-27 14:15:35.208\u001b[0m | \u001b[1mINFO    \u001b[0m | \u001b[36mdocument_ai_agents.document_parsing_agent\u001b[0m:\u001b[36mfind_layout_items\u001b[0m:\u001b[36m109\u001b[0m - \u001b[1mExtracted 2 layout elements from page 7.\u001b[0m\n",
      "\u001b[32m2024-11-27 14:15:35.208\u001b[0m | \u001b[1mINFO    \u001b[0m | \u001b[36mdocument_ai_agents.document_parsing_agent\u001b[0m:\u001b[36mfind_layout_items\u001b[0m:\u001b[36m86\u001b[0m - \u001b[1mProcessing page 29\u001b[0m\n",
      "\u001b[32m2024-11-27 14:15:36.110\u001b[0m | \u001b[1mINFO    \u001b[0m | \u001b[36mdocument_ai_agents.document_parsing_agent\u001b[0m:\u001b[36mfind_layout_items\u001b[0m:\u001b[36m109\u001b[0m - \u001b[1mExtracted 3 layout elements from page 5.\u001b[0m\n",
      "\u001b[32m2024-11-27 14:15:36.112\u001b[0m | \u001b[1mINFO    \u001b[0m | \u001b[36mdocument_ai_agents.document_parsing_agent\u001b[0m:\u001b[36mfind_layout_items\u001b[0m:\u001b[36m86\u001b[0m - \u001b[1mProcessing page 30\u001b[0m\n",
      "\u001b[32m2024-11-27 14:15:36.744\u001b[0m | \u001b[1mINFO    \u001b[0m | \u001b[36mdocument_ai_agents.document_parsing_agent\u001b[0m:\u001b[36mfind_layout_items\u001b[0m:\u001b[36m109\u001b[0m - \u001b[1mExtracted 3 layout elements from page 12.\u001b[0m\n",
      "\u001b[32m2024-11-27 14:15:36.745\u001b[0m | \u001b[1mINFO    \u001b[0m | \u001b[36mdocument_ai_agents.document_parsing_agent\u001b[0m:\u001b[36mfind_layout_items\u001b[0m:\u001b[36m86\u001b[0m - \u001b[1mProcessing page 31\u001b[0m\n",
      "\u001b[32m2024-11-27 14:15:36.758\u001b[0m | \u001b[1mINFO    \u001b[0m | \u001b[36mdocument_ai_agents.document_parsing_agent\u001b[0m:\u001b[36mfind_layout_items\u001b[0m:\u001b[36m109\u001b[0m - \u001b[1mExtracted 5 layout elements from page 1.\u001b[0m\n",
      "\u001b[32m2024-11-27 14:15:36.759\u001b[0m | \u001b[1mINFO    \u001b[0m | \u001b[36mdocument_ai_agents.document_parsing_agent\u001b[0m:\u001b[36mfind_layout_items\u001b[0m:\u001b[36m86\u001b[0m - \u001b[1mProcessing page 32\u001b[0m\n",
      "\u001b[32m2024-11-27 14:15:37.123\u001b[0m | \u001b[1mINFO    \u001b[0m | \u001b[36mdocument_ai_agents.document_parsing_agent\u001b[0m:\u001b[36mfind_layout_items\u001b[0m:\u001b[36m109\u001b[0m - \u001b[1mExtracted 5 layout elements from page 17.\u001b[0m\n",
      "\u001b[32m2024-11-27 14:15:37.123\u001b[0m | \u001b[1mINFO    \u001b[0m | \u001b[36mdocument_ai_agents.document_parsing_agent\u001b[0m:\u001b[36mfind_layout_items\u001b[0m:\u001b[36m86\u001b[0m - \u001b[1mProcessing page 33\u001b[0m\n",
      "\u001b[32m2024-11-27 14:15:37.304\u001b[0m | \u001b[1mINFO    \u001b[0m | \u001b[36mdocument_ai_agents.document_parsing_agent\u001b[0m:\u001b[36mfind_layout_items\u001b[0m:\u001b[36m109\u001b[0m - \u001b[1mExtracted 10 layout elements from page 19.\u001b[0m\n",
      "\u001b[32m2024-11-27 14:15:37.305\u001b[0m | \u001b[1mINFO    \u001b[0m | \u001b[36mdocument_ai_agents.document_parsing_agent\u001b[0m:\u001b[36mfind_layout_items\u001b[0m:\u001b[36m86\u001b[0m - \u001b[1mProcessing page 34\u001b[0m\n",
      "\u001b[32m2024-11-27 14:15:37.833\u001b[0m | \u001b[1mINFO    \u001b[0m | \u001b[36mdocument_ai_agents.document_parsing_agent\u001b[0m:\u001b[36mfind_layout_items\u001b[0m:\u001b[36m109\u001b[0m - \u001b[1mExtracted 4 layout elements from page 2.\u001b[0m\n",
      "\u001b[32m2024-11-27 14:15:37.835\u001b[0m | \u001b[1mINFO    \u001b[0m | \u001b[36mdocument_ai_agents.document_parsing_agent\u001b[0m:\u001b[36mfind_layout_items\u001b[0m:\u001b[36m86\u001b[0m - \u001b[1mProcessing page 35\u001b[0m\n",
      "\u001b[32m2024-11-27 14:15:37.847\u001b[0m | \u001b[1mINFO    \u001b[0m | \u001b[36mdocument_ai_agents.document_parsing_agent\u001b[0m:\u001b[36mfind_layout_items\u001b[0m:\u001b[36m109\u001b[0m - \u001b[1mExtracted 6 layout elements from page 23.\u001b[0m\n",
      "\u001b[32m2024-11-27 14:15:37.848\u001b[0m | \u001b[1mINFO    \u001b[0m | \u001b[36mdocument_ai_agents.document_parsing_agent\u001b[0m:\u001b[36mfind_layout_items\u001b[0m:\u001b[36m109\u001b[0m - \u001b[1mExtracted 3 layout elements from page 9.\u001b[0m\n",
      "\u001b[32m2024-11-27 14:15:37.848\u001b[0m | \u001b[1mINFO    \u001b[0m | \u001b[36mdocument_ai_agents.document_parsing_agent\u001b[0m:\u001b[36mfind_layout_items\u001b[0m:\u001b[36m86\u001b[0m - \u001b[1mProcessing page 36\u001b[0m\n",
      "\u001b[32m2024-11-27 14:15:37.849\u001b[0m | \u001b[1mINFO    \u001b[0m | \u001b[36mdocument_ai_agents.document_parsing_agent\u001b[0m:\u001b[36mfind_layout_items\u001b[0m:\u001b[36m86\u001b[0m - \u001b[1mProcessing page 37\u001b[0m\n",
      "\u001b[32m2024-11-27 14:15:38.030\u001b[0m | \u001b[1mINFO    \u001b[0m | \u001b[36mdocument_ai_agents.document_parsing_agent\u001b[0m:\u001b[36mfind_layout_items\u001b[0m:\u001b[36m109\u001b[0m - \u001b[1mExtracted 10 layout elements from page 6.\u001b[0m\n",
      "\u001b[32m2024-11-27 14:15:38.030\u001b[0m | \u001b[1mINFO    \u001b[0m | \u001b[36mdocument_ai_agents.document_parsing_agent\u001b[0m:\u001b[36mfind_layout_items\u001b[0m:\u001b[36m86\u001b[0m - \u001b[1mProcessing page 38\u001b[0m\n",
      "\u001b[32m2024-11-27 14:15:38.104\u001b[0m | \u001b[1mINFO    \u001b[0m | \u001b[36mdocument_ai_agents.document_parsing_agent\u001b[0m:\u001b[36mfind_layout_items\u001b[0m:\u001b[36m109\u001b[0m - \u001b[1mExtracted 3 layout elements from page 18.\u001b[0m\n",
      "\u001b[32m2024-11-27 14:15:38.105\u001b[0m | \u001b[1mINFO    \u001b[0m | \u001b[36mdocument_ai_agents.document_parsing_agent\u001b[0m:\u001b[36mfind_layout_items\u001b[0m:\u001b[36m86\u001b[0m - \u001b[1mProcessing page 39\u001b[0m\n",
      "\u001b[32m2024-11-27 14:15:38.191\u001b[0m | \u001b[1mINFO    \u001b[0m | \u001b[36mdocument_ai_agents.document_parsing_agent\u001b[0m:\u001b[36mfind_layout_items\u001b[0m:\u001b[36m109\u001b[0m - \u001b[1mExtracted 8 layout elements from page 21.\u001b[0m\n",
      "\u001b[32m2024-11-27 14:15:38.193\u001b[0m | \u001b[1mINFO    \u001b[0m | \u001b[36mdocument_ai_agents.document_parsing_agent\u001b[0m:\u001b[36mfind_layout_items\u001b[0m:\u001b[36m86\u001b[0m - \u001b[1mProcessing page 40\u001b[0m\n",
      "\u001b[32m2024-11-27 14:15:38.242\u001b[0m | \u001b[1mINFO    \u001b[0m | \u001b[36mdocument_ai_agents.document_parsing_agent\u001b[0m:\u001b[36mfind_layout_items\u001b[0m:\u001b[36m109\u001b[0m - \u001b[1mExtracted 5 layout elements from page 24.\u001b[0m\n",
      "\u001b[32m2024-11-27 14:15:38.242\u001b[0m | \u001b[1mINFO    \u001b[0m | \u001b[36mdocument_ai_agents.document_parsing_agent\u001b[0m:\u001b[36mfind_layout_items\u001b[0m:\u001b[36m86\u001b[0m - \u001b[1mProcessing page 41\u001b[0m\n",
      "\u001b[32m2024-11-27 14:15:38.506\u001b[0m | \u001b[1mINFO    \u001b[0m | \u001b[36mdocument_ai_agents.document_parsing_agent\u001b[0m:\u001b[36mfind_layout_items\u001b[0m:\u001b[36m109\u001b[0m - \u001b[1mExtracted 4 layout elements from page 27.\u001b[0m\n",
      "\u001b[32m2024-11-27 14:15:38.509\u001b[0m | \u001b[1mINFO    \u001b[0m | \u001b[36mdocument_ai_agents.document_parsing_agent\u001b[0m:\u001b[36mfind_layout_items\u001b[0m:\u001b[36m86\u001b[0m - \u001b[1mProcessing page 42\u001b[0m\n",
      "\u001b[32m2024-11-27 14:15:38.510\u001b[0m | \u001b[1mINFO    \u001b[0m | \u001b[36mdocument_ai_agents.document_parsing_agent\u001b[0m:\u001b[36mfind_layout_items\u001b[0m:\u001b[36m109\u001b[0m - \u001b[1mExtracted 4 layout elements from page 29.\u001b[0m\n",
      "\u001b[32m2024-11-27 14:15:38.514\u001b[0m | \u001b[1mINFO    \u001b[0m | \u001b[36mdocument_ai_agents.document_parsing_agent\u001b[0m:\u001b[36mfind_layout_items\u001b[0m:\u001b[36m86\u001b[0m - \u001b[1mProcessing page 43\u001b[0m\n",
      "\u001b[32m2024-11-27 14:15:38.731\u001b[0m | \u001b[1mINFO    \u001b[0m | \u001b[36mdocument_ai_agents.document_parsing_agent\u001b[0m:\u001b[36mfind_layout_items\u001b[0m:\u001b[36m109\u001b[0m - \u001b[1mExtracted 7 layout elements from page 26.\u001b[0m\n",
      "\u001b[32m2024-11-27 14:15:38.732\u001b[0m | \u001b[1mINFO    \u001b[0m | \u001b[36mdocument_ai_agents.document_parsing_agent\u001b[0m:\u001b[36mfind_layout_items\u001b[0m:\u001b[36m86\u001b[0m - \u001b[1mProcessing page 44\u001b[0m\n",
      "\u001b[32m2024-11-27 14:15:38.884\u001b[0m | \u001b[1mINFO    \u001b[0m | \u001b[36mdocument_ai_agents.document_parsing_agent\u001b[0m:\u001b[36mfind_layout_items\u001b[0m:\u001b[36m109\u001b[0m - \u001b[1mExtracted 10 layout elements from page 15.\u001b[0m\n",
      "\u001b[32m2024-11-27 14:15:38.888\u001b[0m | \u001b[1mINFO    \u001b[0m | \u001b[36mdocument_ai_agents.document_parsing_agent\u001b[0m:\u001b[36mfind_layout_items\u001b[0m:\u001b[36m86\u001b[0m - \u001b[1mProcessing page 45\u001b[0m\n",
      "\u001b[32m2024-11-27 14:15:38.907\u001b[0m | \u001b[1mINFO    \u001b[0m | \u001b[36mdocument_ai_agents.document_parsing_agent\u001b[0m:\u001b[36mfind_layout_items\u001b[0m:\u001b[36m109\u001b[0m - \u001b[1mExtracted 5 layout elements from page 28.\u001b[0m\n",
      "\u001b[32m2024-11-27 14:15:38.910\u001b[0m | \u001b[1mINFO    \u001b[0m | \u001b[36mdocument_ai_agents.document_parsing_agent\u001b[0m:\u001b[36mfind_layout_items\u001b[0m:\u001b[36m86\u001b[0m - \u001b[1mProcessing page 46\u001b[0m\n",
      "\u001b[32m2024-11-27 14:15:38.972\u001b[0m | \u001b[1mINFO    \u001b[0m | \u001b[36mdocument_ai_agents.document_parsing_agent\u001b[0m:\u001b[36mfind_layout_items\u001b[0m:\u001b[36m109\u001b[0m - \u001b[1mExtracted 5 layout elements from page 13.\u001b[0m\n",
      "\u001b[32m2024-11-27 14:15:38.972\u001b[0m | \u001b[1mINFO    \u001b[0m | \u001b[36mdocument_ai_agents.document_parsing_agent\u001b[0m:\u001b[36mfind_layout_items\u001b[0m:\u001b[36m109\u001b[0m - \u001b[1mExtracted 5 layout elements from page 11.\u001b[0m\n",
      "\u001b[32m2024-11-27 14:15:38.973\u001b[0m | \u001b[1mINFO    \u001b[0m | \u001b[36mdocument_ai_agents.document_parsing_agent\u001b[0m:\u001b[36mfind_layout_items\u001b[0m:\u001b[36m86\u001b[0m - \u001b[1mProcessing page 47\u001b[0m\n",
      "\u001b[32m2024-11-27 14:15:38.974\u001b[0m | \u001b[1mINFO    \u001b[0m | \u001b[36mdocument_ai_agents.document_parsing_agent\u001b[0m:\u001b[36mfind_layout_items\u001b[0m:\u001b[36m86\u001b[0m - \u001b[1mProcessing page 48\u001b[0m\n",
      "\u001b[32m2024-11-27 14:15:39.035\u001b[0m | \u001b[1mINFO    \u001b[0m | \u001b[36mdocument_ai_agents.document_parsing_agent\u001b[0m:\u001b[36mfind_layout_items\u001b[0m:\u001b[36m109\u001b[0m - \u001b[1mExtracted 10 layout elements from page 16.\u001b[0m\n",
      "\u001b[32m2024-11-27 14:15:39.036\u001b[0m | \u001b[1mINFO    \u001b[0m | \u001b[36mdocument_ai_agents.document_parsing_agent\u001b[0m:\u001b[36mfind_layout_items\u001b[0m:\u001b[36m86\u001b[0m - \u001b[1mProcessing page 49\u001b[0m\n",
      "\u001b[32m2024-11-27 14:15:39.089\u001b[0m | \u001b[1mINFO    \u001b[0m | \u001b[36mdocument_ai_agents.document_parsing_agent\u001b[0m:\u001b[36mfind_layout_items\u001b[0m:\u001b[36m109\u001b[0m - \u001b[1mExtracted 7 layout elements from page 25.\u001b[0m\n",
      "\u001b[32m2024-11-27 14:15:39.090\u001b[0m | \u001b[1mINFO    \u001b[0m | \u001b[36mdocument_ai_agents.document_parsing_agent\u001b[0m:\u001b[36mfind_layout_items\u001b[0m:\u001b[36m86\u001b[0m - \u001b[1mProcessing page 50\u001b[0m\n",
      "\u001b[32m2024-11-27 14:15:39.643\u001b[0m | \u001b[1mINFO    \u001b[0m | \u001b[36mdocument_ai_agents.document_parsing_agent\u001b[0m:\u001b[36mfind_layout_items\u001b[0m:\u001b[36m109\u001b[0m - \u001b[1mExtracted 10 layout elements from page 4.\u001b[0m\n",
      "\u001b[32m2024-11-27 14:15:39.643\u001b[0m | \u001b[1mINFO    \u001b[0m | \u001b[36mdocument_ai_agents.document_parsing_agent\u001b[0m:\u001b[36mfind_layout_items\u001b[0m:\u001b[36m86\u001b[0m - \u001b[1mProcessing page 51\u001b[0m\n",
      "\u001b[32m2024-11-27 14:15:39.683\u001b[0m | \u001b[1mINFO    \u001b[0m | \u001b[36mdocument_ai_agents.document_parsing_agent\u001b[0m:\u001b[36mfind_layout_items\u001b[0m:\u001b[36m109\u001b[0m - \u001b[1mExtracted 10 layout elements from page 20.\u001b[0m\n",
      "\u001b[32m2024-11-27 14:15:39.777\u001b[0m | \u001b[1mINFO    \u001b[0m | \u001b[36mdocument_ai_agents.document_parsing_agent\u001b[0m:\u001b[36mfind_layout_items\u001b[0m:\u001b[36m109\u001b[0m - \u001b[1mExtracted 9 layout elements from page 14.\u001b[0m\n",
      "\u001b[32m2024-11-27 14:15:40.009\u001b[0m | \u001b[1mINFO    \u001b[0m | \u001b[36mdocument_ai_agents.document_parsing_agent\u001b[0m:\u001b[36mfind_layout_items\u001b[0m:\u001b[36m109\u001b[0m - \u001b[1mExtracted 7 layout elements from page 30.\u001b[0m\n",
      "\u001b[32m2024-11-27 14:15:40.396\u001b[0m | \u001b[1mINFO    \u001b[0m | \u001b[36mdocument_ai_agents.document_parsing_agent\u001b[0m:\u001b[36mfind_layout_items\u001b[0m:\u001b[36m109\u001b[0m - \u001b[1mExtracted 1 layout elements from page 38.\u001b[0m\n",
      "\u001b[32m2024-11-27 14:15:40.419\u001b[0m | \u001b[1mINFO    \u001b[0m | \u001b[36mdocument_ai_agents.document_parsing_agent\u001b[0m:\u001b[36mfind_layout_items\u001b[0m:\u001b[36m109\u001b[0m - \u001b[1mExtracted 8 layout elements from page 34.\u001b[0m\n",
      "\u001b[32m2024-11-27 14:15:40.422\u001b[0m | \u001b[1mINFO    \u001b[0m | \u001b[36mdocument_ai_agents.document_parsing_agent\u001b[0m:\u001b[36mfind_layout_items\u001b[0m:\u001b[36m109\u001b[0m - \u001b[1mExtracted 10 layout elements from page 32.\u001b[0m\n",
      "\u001b[32m2024-11-27 14:15:40.467\u001b[0m | \u001b[1mINFO    \u001b[0m | \u001b[36mdocument_ai_agents.document_parsing_agent\u001b[0m:\u001b[36mfind_layout_items\u001b[0m:\u001b[36m109\u001b[0m - \u001b[1mExtracted 6 layout elements from page 33.\u001b[0m\n",
      "\u001b[32m2024-11-27 14:15:40.543\u001b[0m | \u001b[1mINFO    \u001b[0m | \u001b[36mdocument_ai_agents.document_parsing_agent\u001b[0m:\u001b[36mfind_layout_items\u001b[0m:\u001b[36m109\u001b[0m - \u001b[1mExtracted 10 layout elements from page 31.\u001b[0m\n",
      "\u001b[32m2024-11-27 14:15:40.780\u001b[0m | \u001b[1mINFO    \u001b[0m | \u001b[36mdocument_ai_agents.document_parsing_agent\u001b[0m:\u001b[36mfind_layout_items\u001b[0m:\u001b[36m109\u001b[0m - \u001b[1mExtracted 3 layout elements from page 36.\u001b[0m\n",
      "\u001b[32m2024-11-27 14:15:40.796\u001b[0m | \u001b[1mINFO    \u001b[0m | \u001b[36mdocument_ai_agents.document_parsing_agent\u001b[0m:\u001b[36mfind_layout_items\u001b[0m:\u001b[36m109\u001b[0m - \u001b[1mExtracted 7 layout elements from page 37.\u001b[0m\n",
      "\u001b[32m2024-11-27 14:15:41.814\u001b[0m | \u001b[33m\u001b[1mWARNING \u001b[0m | \u001b[36murllib3.connectionpool\u001b[0m:\u001b[36m_put_conn\u001b[0m:\u001b[36m329\u001b[0m - \u001b[33m\u001b[1mConnection pool is full, discarding connection: generativelanguage.googleapis.com. Connection pool size: 10\u001b[0m\n",
      "\u001b[32m2024-11-27 14:15:41.815\u001b[0m | \u001b[1mINFO    \u001b[0m | \u001b[36mdocument_ai_agents.document_parsing_agent\u001b[0m:\u001b[36mfind_layout_items\u001b[0m:\u001b[36m109\u001b[0m - \u001b[1mExtracted 5 layout elements from page 35.\u001b[0m\n",
      "\u001b[32m2024-11-27 14:15:41.816\u001b[0m | \u001b[33m\u001b[1mWARNING \u001b[0m | \u001b[36murllib3.connectionpool\u001b[0m:\u001b[36m_put_conn\u001b[0m:\u001b[36m329\u001b[0m - \u001b[33m\u001b[1mConnection pool is full, discarding connection: generativelanguage.googleapis.com. Connection pool size: 10\u001b[0m\n",
      "\u001b[32m2024-11-27 14:15:41.817\u001b[0m | \u001b[1mINFO    \u001b[0m | \u001b[36mdocument_ai_agents.document_parsing_agent\u001b[0m:\u001b[36mfind_layout_items\u001b[0m:\u001b[36m109\u001b[0m - \u001b[1mExtracted 1 layout elements from page 47.\u001b[0m\n",
      "\u001b[32m2024-11-27 14:15:41.977\u001b[0m | \u001b[33m\u001b[1mWARNING \u001b[0m | \u001b[36murllib3.connectionpool\u001b[0m:\u001b[36m_put_conn\u001b[0m:\u001b[36m329\u001b[0m - \u001b[33m\u001b[1mConnection pool is full, discarding connection: generativelanguage.googleapis.com. Connection pool size: 10\u001b[0m\n",
      "\u001b[32m2024-11-27 14:15:41.981\u001b[0m | \u001b[1mINFO    \u001b[0m | \u001b[36mdocument_ai_agents.document_parsing_agent\u001b[0m:\u001b[36mfind_layout_items\u001b[0m:\u001b[36m109\u001b[0m - \u001b[1mExtracted 8 layout elements from page 41.\u001b[0m\n",
      "\u001b[32m2024-11-27 14:15:42.188\u001b[0m | \u001b[33m\u001b[1mWARNING \u001b[0m | \u001b[36murllib3.connectionpool\u001b[0m:\u001b[36m_put_conn\u001b[0m:\u001b[36m329\u001b[0m - \u001b[33m\u001b[1mConnection pool is full, discarding connection: generativelanguage.googleapis.com. Connection pool size: 10\u001b[0m\n",
      "\u001b[32m2024-11-27 14:15:42.189\u001b[0m | \u001b[1mINFO    \u001b[0m | \u001b[36mdocument_ai_agents.document_parsing_agent\u001b[0m:\u001b[36mfind_layout_items\u001b[0m:\u001b[36m109\u001b[0m - \u001b[1mExtracted 1 layout elements from page 44.\u001b[0m\n",
      "\u001b[32m2024-11-27 14:15:42.311\u001b[0m | \u001b[33m\u001b[1mWARNING \u001b[0m | \u001b[36murllib3.connectionpool\u001b[0m:\u001b[36m_put_conn\u001b[0m:\u001b[36m329\u001b[0m - \u001b[33m\u001b[1mConnection pool is full, discarding connection: generativelanguage.googleapis.com. Connection pool size: 10\u001b[0m\n",
      "\u001b[32m2024-11-27 14:15:42.314\u001b[0m | \u001b[1mINFO    \u001b[0m | \u001b[36mdocument_ai_agents.document_parsing_agent\u001b[0m:\u001b[36mfind_layout_items\u001b[0m:\u001b[36m109\u001b[0m - \u001b[1mExtracted 3 layout elements from page 45.\u001b[0m\n",
      "\u001b[32m2024-11-27 14:15:42.342\u001b[0m | \u001b[33m\u001b[1mWARNING \u001b[0m | \u001b[36murllib3.connectionpool\u001b[0m:\u001b[36m_put_conn\u001b[0m:\u001b[36m329\u001b[0m - \u001b[33m\u001b[1mConnection pool is full, discarding connection: generativelanguage.googleapis.com. Connection pool size: 10\u001b[0m\n",
      "\u001b[32m2024-11-27 14:15:42.344\u001b[0m | \u001b[1mINFO    \u001b[0m | \u001b[36mdocument_ai_agents.document_parsing_agent\u001b[0m:\u001b[36mfind_layout_items\u001b[0m:\u001b[36m109\u001b[0m - \u001b[1mExtracted 4 layout elements from page 39.\u001b[0m\n",
      "\u001b[32m2024-11-27 14:15:42.553\u001b[0m | \u001b[33m\u001b[1mWARNING \u001b[0m | \u001b[36murllib3.connectionpool\u001b[0m:\u001b[36m_put_conn\u001b[0m:\u001b[36m329\u001b[0m - \u001b[33m\u001b[1mConnection pool is full, discarding connection: generativelanguage.googleapis.com. Connection pool size: 10\u001b[0m\n",
      "\u001b[32m2024-11-27 14:15:42.554\u001b[0m | \u001b[1mINFO    \u001b[0m | \u001b[36mdocument_ai_agents.document_parsing_agent\u001b[0m:\u001b[36mfind_layout_items\u001b[0m:\u001b[36m109\u001b[0m - \u001b[1mExtracted 6 layout elements from page 43.\u001b[0m\n",
      "\u001b[32m2024-11-27 14:15:43.174\u001b[0m | \u001b[33m\u001b[1mWARNING \u001b[0m | \u001b[36murllib3.connectionpool\u001b[0m:\u001b[36m_put_conn\u001b[0m:\u001b[36m329\u001b[0m - \u001b[33m\u001b[1mConnection pool is full, discarding connection: generativelanguage.googleapis.com. Connection pool size: 10\u001b[0m\n",
      "\u001b[32m2024-11-27 14:15:43.174\u001b[0m | \u001b[1mINFO    \u001b[0m | \u001b[36mdocument_ai_agents.document_parsing_agent\u001b[0m:\u001b[36mfind_layout_items\u001b[0m:\u001b[36m109\u001b[0m - \u001b[1mExtracted 6 layout elements from page 42.\u001b[0m\n",
      "\u001b[32m2024-11-27 14:15:43.201\u001b[0m | \u001b[33m\u001b[1mWARNING \u001b[0m | \u001b[36murllib3.connectionpool\u001b[0m:\u001b[36m_put_conn\u001b[0m:\u001b[36m329\u001b[0m - \u001b[33m\u001b[1mConnection pool is full, discarding connection: generativelanguage.googleapis.com. Connection pool size: 10\u001b[0m\n",
      "\u001b[32m2024-11-27 14:15:43.202\u001b[0m | \u001b[1mINFO    \u001b[0m | \u001b[36mdocument_ai_agents.document_parsing_agent\u001b[0m:\u001b[36mfind_layout_items\u001b[0m:\u001b[36m109\u001b[0m - \u001b[1mExtracted 5 layout elements from page 46.\u001b[0m\n",
      "\u001b[32m2024-11-27 14:15:43.269\u001b[0m | \u001b[33m\u001b[1mWARNING \u001b[0m | \u001b[36murllib3.connectionpool\u001b[0m:\u001b[36m_put_conn\u001b[0m:\u001b[36m329\u001b[0m - \u001b[33m\u001b[1mConnection pool is full, discarding connection: generativelanguage.googleapis.com. Connection pool size: 10\u001b[0m\n",
      "\u001b[32m2024-11-27 14:15:43.270\u001b[0m | \u001b[1mINFO    \u001b[0m | \u001b[36mdocument_ai_agents.document_parsing_agent\u001b[0m:\u001b[36mfind_layout_items\u001b[0m:\u001b[36m109\u001b[0m - \u001b[1mExtracted 5 layout elements from page 40.\u001b[0m\n",
      "\u001b[32m2024-11-27 14:15:43.420\u001b[0m | \u001b[33m\u001b[1mWARNING \u001b[0m | \u001b[36murllib3.connectionpool\u001b[0m:\u001b[36m_put_conn\u001b[0m:\u001b[36m329\u001b[0m - \u001b[33m\u001b[1mConnection pool is full, discarding connection: generativelanguage.googleapis.com. Connection pool size: 10\u001b[0m\n",
      "\u001b[32m2024-11-27 14:15:43.421\u001b[0m | \u001b[1mINFO    \u001b[0m | \u001b[36mdocument_ai_agents.document_parsing_agent\u001b[0m:\u001b[36mfind_layout_items\u001b[0m:\u001b[36m109\u001b[0m - \u001b[1mExtracted 4 layout elements from page 50.\u001b[0m\n",
      "\u001b[32m2024-11-27 14:15:43.615\u001b[0m | \u001b[33m\u001b[1mWARNING \u001b[0m | \u001b[36murllib3.connectionpool\u001b[0m:\u001b[36m_put_conn\u001b[0m:\u001b[36m329\u001b[0m - \u001b[33m\u001b[1mConnection pool is full, discarding connection: generativelanguage.googleapis.com. Connection pool size: 10\u001b[0m\n",
      "\u001b[32m2024-11-27 14:15:43.618\u001b[0m | \u001b[1mINFO    \u001b[0m | \u001b[36mdocument_ai_agents.document_parsing_agent\u001b[0m:\u001b[36mfind_layout_items\u001b[0m:\u001b[36m109\u001b[0m - \u001b[1mExtracted 6 layout elements from page 51.\u001b[0m\n",
      "\u001b[32m2024-11-27 14:15:43.687\u001b[0m | \u001b[33m\u001b[1mWARNING \u001b[0m | \u001b[36murllib3.connectionpool\u001b[0m:\u001b[36m_put_conn\u001b[0m:\u001b[36m329\u001b[0m - \u001b[33m\u001b[1mConnection pool is full, discarding connection: generativelanguage.googleapis.com. Connection pool size: 10\u001b[0m\n",
      "\u001b[32m2024-11-27 14:15:43.688\u001b[0m | \u001b[1mINFO    \u001b[0m | \u001b[36mdocument_ai_agents.document_parsing_agent\u001b[0m:\u001b[36mfind_layout_items\u001b[0m:\u001b[36m109\u001b[0m - \u001b[1mExtracted 5 layout elements from page 48.\u001b[0m\n",
      "\u001b[32m2024-11-27 14:15:43.920\u001b[0m | \u001b[33m\u001b[1mWARNING \u001b[0m | \u001b[36murllib3.connectionpool\u001b[0m:\u001b[36m_put_conn\u001b[0m:\u001b[36m329\u001b[0m - \u001b[33m\u001b[1mConnection pool is full, discarding connection: generativelanguage.googleapis.com. Connection pool size: 10\u001b[0m\n",
      "\u001b[32m2024-11-27 14:15:43.923\u001b[0m | \u001b[1mINFO    \u001b[0m | \u001b[36mdocument_ai_agents.document_parsing_agent\u001b[0m:\u001b[36mfind_layout_items\u001b[0m:\u001b[36m109\u001b[0m - \u001b[1mExtracted 4 layout elements from page 49.\u001b[0m\n"
     ]
    }
   ],
   "source": [
    "result1 = agent1.graph.invoke(state1)"
   ]
  },
  {
   "cell_type": "code",
   "execution_count": 12,
   "id": "67bb3c7c-db3a-4b17-9b12-177dd9646901",
   "metadata": {},
   "outputs": [
    {
     "name": "stderr",
     "output_type": "stream",
     "text": [
      "\u001b[32m2024-11-27 14:18:29.150\u001b[0m | \u001b[1mINFO    \u001b[0m | \u001b[36mdocument_ai_agents.document_rag_agent\u001b[0m:\u001b[36mindex_documents\u001b[0m:\u001b[36m55\u001b[0m - \u001b[1mDocuments for this file are already indexed, exiting this node\u001b[0m\n",
      "\u001b[32m2024-11-27 14:18:33.866\u001b[0m | \u001b[1mINFO    \u001b[0m | \u001b[36mdocument_ai_agents.document_rag_agent\u001b[0m:\u001b[36manswer_question\u001b[0m:\u001b[36m73\u001b[0m - \u001b[1mResponding to question What is this document about?\u001b[0m\n"
     ]
    },
    {
     "data": {
      "text/markdown": [
       "This document is about supervised learning, specifically regression.  It explains that in regression, a function f(x) is learned to predict a real-valued y given x, using a set of data points (x₁, y₁), (x₂, y₂), ..., (xn, yn).  A graph illustrating a regression model for September Arctic Sea Ice Extent is provided as an example."
      ],
      "text/plain": [
       "<IPython.core.display.Markdown object>"
      ]
     },
     "metadata": {},
     "output_type": "display_data"
    }
   ],
   "source": [
    "state2 = DocumentRAGState(\n",
    "    question=\"What is this document about?\",\n",
    "    document_path=path,\n",
    "    pages_as_base64_jpeg_images=result1[\"pages_as_base64_jpeg_images\"],\n",
    "    documents=result1[\"documents\"],\n",
    ")\n",
    "result2 = agent2.graph.invoke(state2)\n",
    "display(Markdown(result2[\"response\"]))"
   ]
  },
  {
   "cell_type": "code",
   "execution_count": 13,
   "id": "4ec548fc-6986-47bf-85d4-6ca71b6bac66",
   "metadata": {},
   "outputs": [
    {
     "name": "stderr",
     "output_type": "stream",
     "text": [
      "\u001b[32m2024-11-27 14:18:35.718\u001b[0m | \u001b[1mINFO    \u001b[0m | \u001b[36mdocument_ai_agents.document_rag_agent\u001b[0m:\u001b[36mindex_documents\u001b[0m:\u001b[36m55\u001b[0m - \u001b[1mDocuments for this file are already indexed, exiting this node\u001b[0m\n",
      "\u001b[32m2024-11-27 14:18:41.345\u001b[0m | \u001b[1mINFO    \u001b[0m | \u001b[36mdocument_ai_agents.document_rag_agent\u001b[0m:\u001b[36manswer_question\u001b[0m:\u001b[36m73\u001b[0m - \u001b[1mResponding to question Explain automatic speech recognition architecture step by step from the document\u001b[0m\n"
     ]
    },
    {
     "data": {
      "text/markdown": [
       "Here's a step-by-step explanation of automatic speech recognition (ASR) architecture based on the provided document:\n",
       "\n",
       "1. **Input:** The process begins with the input audio signal.\n",
       "\n",
       "2. **Feature Extraction:**  The raw audio is processed to extract relevant features.  This step converts the waveform into a representation (like a spectrogram) that highlights the acoustic properties important for speech recognition.  The image shows a spectrogram as the output of this step.\n",
       "\n",
       "3. **Neural Network:** The extracted features are fed into a neural network.  This is the core of the system, learning complex patterns and relationships within the speech data.  The depth of the network (number of hidden layers) significantly impacts performance, as shown in the table.  Deep learning models have yielded state-of-the-art results.\n",
       "\n",
       "4. **Decoder:** The neural network's output is then passed to a decoder. The decoder interprets the neural network's predictions and converts them into a sequence of phonemes or words.\n",
       "\n",
       "5. **Language Model (and Transducer):** The decoder works in conjunction with a language model. This model incorporates linguistic knowledge (grammar, word probabilities) to refine the output, making the ASR system more accurate and robust to errors. The transducer component links the acoustic and linguistic information.\n",
       "\n",
       "6. **Output:** The final output is a transcription of the spoken audio, representing the system's understanding of what was said.\n",
       "\n",
       "The document emphasizes the use of Machine Learning (ML) and, specifically, deep learning, to improve the accuracy of the prediction of phone states (basic units of speech sound) from the sound spectrogram during the neural network stage.\n"
      ],
      "text/plain": [
       "<IPython.core.display.Markdown object>"
      ]
     },
     "metadata": {},
     "output_type": "display_data"
    }
   ],
   "source": [
    "state2 = DocumentRAGState(\n",
    "    question=\"Explain automatic speech recognition architecture step by step from the document\",\n",
    "    document_path=path,\n",
    "    pages_as_base64_jpeg_images=result1[\"pages_as_base64_jpeg_images\"],\n",
    "    documents=result1[\"documents\"],\n",
    ")\n",
    "result2 = agent2.graph.invoke(state2)\n",
    "result2[\"response\"]\n",
    "display(Markdown(result2[\"response\"]))"
   ]
  },
  {
   "cell_type": "code",
   "execution_count": null,
   "id": "7b0c4307-e27b-4deb-849b-d9dd3ab93f1c",
   "metadata": {},
   "outputs": [],
   "source": []
  }
 ],
 "metadata": {
  "kernelspec": {
   "display_name": "Python 3 (ipykernel)",
   "language": "python",
   "name": "python3"
  },
  "language_info": {
   "codemirror_mode": {
    "name": "ipython",
    "version": 3
   },
   "file_extension": ".py",
   "mimetype": "text/x-python",
   "name": "python",
   "nbconvert_exporter": "python",
   "pygments_lexer": "ipython3",
   "version": "3.11.10"
  }
 },
 "nbformat": 4,
 "nbformat_minor": 5
}
